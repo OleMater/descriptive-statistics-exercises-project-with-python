{
    "cells": [
        {
            "cell_type": "markdown",
            "id": "ac622319",
            "metadata": {},
            "source": [
                "# Descriptive statistics problems"
            ]
        },
        {
            "cell_type": "markdown",
            "id": "5e0ab0d5",
            "metadata": {},
            "source": [
                "### Exercise 1\n",
                "\n",
                "We will use NumPy to obtain information to describe statistically.\n",
                "\n",
                "- Generate an array of 100 elements following a normal distribution.\n",
                "- Generate an array of 100 elements following a chi-square distribution with 3 degrees of freedom.\n",
                "- Calculate the main metrics and statistical measures that best describe the two vectors."
            ]
        },
        {
            "cell_type": "code",
            "execution_count": 11,
            "id": "34720ab6",
            "metadata": {},
            "outputs": [
                {
                    "data": {
                        "text/plain": [
                            "(array([1., 0., 0., 0., 1., 2., 2., 0., 0., 2., 2., 5., 2., 4., 2., 3., 2.,\n",
                            "        1., 4., 3., 4., 3., 3., 6., 6., 4., 3., 7., 4., 2., 1., 6., 1., 1.,\n",
                            "        4., 2., 1., 1., 0., 1., 1., 1., 1., 0., 1.]),\n",
                            " array([-267.37504933, -256.15883053, -244.94261172, -233.72639292,\n",
                            "        -222.51017411, -211.29395531, -200.07773651, -188.8615177 ,\n",
                            "        -177.6452989 , -166.42908009, -155.21286129, -143.99664248,\n",
                            "        -132.78042368, -121.56420487, -110.34798607,  -99.13176727,\n",
                            "         -87.91554846,  -76.69932966,  -65.48311085,  -54.26689205,\n",
                            "         -43.05067324,  -31.83445444,  -20.61823563,   -9.40201683,\n",
                            "           1.81420198,   13.03042078,   24.24663958,   35.46285839,\n",
                            "          46.67907719,   57.895296  ,   69.1115148 ,   80.32773361,\n",
                            "          91.54395241,  102.76017122,  113.97639002,  125.19260882,\n",
                            "         136.40882763,  147.62504643,  158.84126524,  170.05748404,\n",
                            "         181.27370285,  192.48992165,  203.70614046,  214.92235926,\n",
                            "         226.13857806,  237.35479687]),\n",
                            " <BarContainer object of 45 artists>)"
                        ]
                    },
                    "execution_count": 11,
                    "metadata": {},
                    "output_type": "execute_result"
                },
                {
                    "data": {
                        "image/png": "[encoded data removed]",
                        "text/plain": [
                            "<Figure size 640x480 with 1 Axes>"
                        ]
                    },
                    "metadata": {},
                    "output_type": "display_data"
                }
            ],
            "source": [
                "# TODO\n",
                "import numpy as np\n",
                "import matplotlib.pyplot as plt\n",
                "plt.hist(np.random.normal(1, 100, 100), bins=45)\n"
            ]
        },
        {
            "cell_type": "code",
            "execution_count": 27,
            "id": "9c01b9e9",
            "metadata": {},
            "outputs": [
                {
                    "name": "stdout",
                    "output_type": "stream",
                    "text": [
                        "The mean is: 5.547718677269294\n",
                        "The standard deviation is: 93.58145256602742\n",
                        "The median is: 9.560547524277254\n",
                        "The mode is: ModeResult(mode=-320.78824631728605, count=1)\n",
                        "The percentile is: -67.10702037194736\n",
                        "The Interquartile range is: 139.5449854096321\n"
                    ]
                }
            ],
            "source": [
                "from scipy import stats as st\n",
                "normal_vec = np.random.normal(1,100,100)\n",
                "print(f\"The mean is: {normal_vec.mean()}\")\n",
                "print(f\"The standard deviation is: {normal_vec.std()}\")\n",
                "print(f\"The median is: {np.median(normal_vec)}\")\n",
                "print(f\"The mode is: {st.mode(normal_vec)}\")\n",
                "print(f\"The percentile is: {np.percentile(normal_vec, 25)}\")\n",
                "print(f\"The Interquartile range is: {np.percentile(normal_vec, 75) - np.percentile(normal_vec, 25)}\")"
            ]
        },
        {
            "cell_type": "code",
            "execution_count": 10,
            "id": "adcd0dd2",
            "metadata": {},
            "outputs": [
                {
                    "data": {
                        "text/plain": [
                            "(array([ 1.,  0.,  3., 14., 16., 21., 24., 15.,  5.,  1.]),\n",
                            " array([-334.55199045, -274.19075767, -213.8295249 , -153.46829213,\n",
                            "         -93.10705935,  -32.74582658,   27.6154062 ,   87.97663897,\n",
                            "         148.33787174,  208.69910452,  269.06033729]),\n",
                            " <BarContainer object of 10 artists>)"
                        ]
                    },
                    "execution_count": 10,
                    "metadata": {},
                    "output_type": "execute_result"
                },
                {
                    "data": {
                        "image/png": "[encoded data removed]",
                        "text/plain": [
                            "<Figure size 640x480 with 1 Axes>"
                        ]
                    },
                    "metadata": {},
                    "output_type": "display_data"
                }
            ],
            "source": [
                "plt.hist(normal_vec)"
            ]
        },
        {
            "cell_type": "code",
            "execution_count": 29,
            "id": "f21e8d20",
            "metadata": {},
            "outputs": [
                {
                    "name": "stdout",
                    "output_type": "stream",
                    "text": [
                        "The mean is: 2.971610737281215\n",
                        "The standard deviation is: 2.5429186794911636\n",
                        "The median is: 2.4342598080175675\n",
                        "The mode is: ModeResult(mode=0.1354500484869568, count=1)\n",
                        "The percentile is: 1.4792604435684402\n",
                        "The Interquartile range is: 2.0079869278468\n"
                    ]
                },
                {
                    "data": {
                        "image/png": "[encoded data removed]",
                        "text/plain": [
                            "<Figure size 640x480 with 1 Axes>"
                        ]
                    },
                    "metadata": {},
                    "output_type": "display_data"
                }
            ],
            "source": [
                "Chi = np.random.chisquare(3, 100,)\n",
                "plt.hist(np.random.chisquare(3, 100,), bins=50)\n",
                "print(f\"The mean is: {Chi.mean()}\")\n",
                "print(f\"The standard deviation is: {Chi.std()}\")\n",
                "print(f\"The median is: {np.median(Chi)}\")\n",
                "print(f\"The mode is: {st.mode(Chi)}\")\n",
                "print(f\"The percentile is: {np.percentile(Chi, 25)}\")\n",
                "print(f\"The Interquartile range is: {np.percentile(Chi, 75) - np.percentile(Chi, 25)}\")"
            ]
        },
        {
            "cell_type": "markdown",
            "id": "46c70c3d",
            "metadata": {},
            "source": [
                "### Exercise 2\n",
                "\n",
                "Write a Python program to calculate the standard deviation of the following data:\n",
                "\n",
                "```py\n",
                "data = [4, 2, 5, 8, 6]\n",
                "```"
            ]
        },
        {
            "cell_type": "code",
            "execution_count": 38,
            "id": "d590308e",
            "metadata": {},
            "outputs": [
                {
                    "name": "stdout",
                    "output_type": "stream",
                    "text": [
                        "The standard deviation is: 2.0\n"
                    ]
                }
            ],
            "source": [
                "# TODO\n",
                "data = np.array([4, 2, 5, 8, 6])\n",
                "print(f\"The standard deviation is: {data.std()}\")\n"
            ]
        }
    ],
    "metadata": {
        "interpreter": {
            "hash": "9248718ffe6ce6938b217e69dbcc175ea21f4c6b28a317e96c05334edae734bb"
        },
        "kernelspec": {
            "display_name": "Python 3.9.12 ('ML-BOOTCAMP')",
            "language": "python",
            "name": "python3"
        },
        "language_info": {
            "codemirror_mode": {
                "name": "ipython",
                "version": 3
            },
            "file_extension": ".py",
            "mimetype": "text/x-python",
            "name": "python",
            "nbconvert_exporter": "python",
            "pygments_lexer": "ipython3",
            "version": "3.11.4"
        }
    },
    "nbformat": 4,
    "nbformat_minor": 5
}
