{
    "cells": [
        {
            "cell_type": "markdown",
            "id": "ac622319",
            "metadata": {},
            "source": [
                "# Descriptive statistics problems"
            ]
        },
        {
            "cell_type": "markdown",
            "id": "5e0ab0d5",
            "metadata": {},
            "source": [
                "### Exercise 1\n",
                "\n",
                "We will use NumPy to obtain information to describe statistically.\n",
                "\n",
                "- Generate an array of 100 elements following a normal distribution.\n",
                "- Generate an array of 100 elements following a chi-square distribution with 3 degrees of freedom.\n",
                "- Calculate the main metrics and statistical measures that best describe the two vectors."
            ]
        },
        {
            "cell_type": "code",
            "execution_count": 1,
            "id": "34720ab6",
            "metadata": {},
            "outputs": [
                {
                    "data": {
                        "text/plain": [
                            "(array([1., 0., 1., 2., 2., 1., 4., 2., 3., 4., 2., 2., 2., 1., 5., 2., 3.,\n",
                            "        5., 2., 6., 2., 6., 2., 4., 1., 3., 4., 3., 2., 1., 2., 2., 0., 4.,\n",
                            "        3., 1., 3., 1., 1., 1., 1., 0., 0., 1., 2.]),\n",
                            " array([-214.16720222, -204.81227522, -195.45734823, -186.10242123,\n",
                            "        -176.74749424, -167.39256724, -158.03764025, -148.68271325,\n",
                            "        -139.32778626, -129.97285926, -120.61793227, -111.26300527,\n",
                            "        -101.90807828,  -92.55315128,  -83.19822429,  -73.84329729,\n",
                            "         -64.4883703 ,  -55.1334433 ,  -45.77851631,  -36.42358931,\n",
                            "         -27.06866232,  -17.71373532,   -8.35880833,    0.99611867,\n",
                            "          10.35104566,   19.70597266,   29.06089965,   38.41582665,\n",
                            "          47.77075364,   57.12568064,   66.48060763,   75.83553463,\n",
                            "          85.19046162,   94.54538862,  103.90031561,  113.25524261,\n",
                            "         122.6101696 ,  131.9650966 ,  141.32002359,  150.67495059,\n",
                            "         160.02987758,  169.38480458,  178.73973157,  188.09465857,\n",
                            "         197.44958556,  206.80451256]),\n",
                            " <BarContainer object of 45 artists>)"
                        ]
                    },
                    "execution_count": 1,
                    "metadata": {},
                    "output_type": "execute_result"
                },
                {
                    "data": {
                        "image/png": "[encoded data removed]",
                        "text/plain": [
                            "<Figure size 640x480 with 1 Axes>"
                        ]
                    },
                    "metadata": {},
                    "output_type": "display_data"
                }
            ],
            "source": [
                "# TODO\n",
                "import numpy as np\n",
                "import matplotlib.pyplot as plt\n",
                "import math\n",
                "import sys\n",
                "plt.hist(np.random.normal(1, 100, 100), bins=45)\n"
            ]
        },
        {
            "cell_type": "code",
            "execution_count": 2,
            "id": "9c01b9e9",
            "metadata": {},
            "outputs": [
                {
                    "name": "stdout",
                    "output_type": "stream",
                    "text": [
                        "The mean is: 9.129182536433174\n",
                        "The standard deviation is: 97.3870736954341\n",
                        "The median is: 12.68403449012656\n",
                        "The mode is: ModeResult(mode=np.float64(-250.5544618164207), count=np.int64(1))\n",
                        "The percentile is: -53.42625650126976\n",
                        "The Interquartile range is: 121.81868836676509\n"
                    ]
                }
            ],
            "source": [
                "from scipy import stats as st\n",
                "normal_vec = np.random.normal(1,100,100)\n",
                "print(f\"The mean is: {normal_vec.mean()}\")\n",
                "print(f\"The standard deviation is: {normal_vec.std()}\")\n",
                "print(f\"The median is: {np.median(normal_vec)}\")\n",
                "print(f\"The mode is: {st.mode(normal_vec)}\")\n",
                "print(f\"The percentile is: {np.percentile(normal_vec, 25)}\")\n",
                "print(f\"The Interquartile range is: {np.percentile(normal_vec, 75) - np.percentile(normal_vec, 25)}\")"
            ]
        },
        {
            "cell_type": "code",
            "execution_count": 3,
            "id": "adcd0dd2",
            "metadata": {},
            "outputs": [
                {
                    "data": {
                        "text/plain": [
                            "(array([ 2.,  3.,  8., 14., 16., 22., 19.,  9.,  4.,  3.]),\n",
                            " array([-250.55446182, -200.72928974, -150.90411766, -101.07894558,\n",
                            "         -51.2537735 ,   -1.42860142,   48.39657065,   98.22174273,\n",
                            "         148.04691481,  197.87208689,  247.69725897]),\n",
                            " <BarContainer object of 10 artists>)"
                        ]
                    },
                    "execution_count": 3,
                    "metadata": {},
                    "output_type": "execute_result"
                },
                {
                    "data": {
                        "image/png": "[encoded data removed]",
                        "text/plain": [
                            "<Figure size 640x480 with 1 Axes>"
                        ]
                    },
                    "metadata": {},
                    "output_type": "display_data"
                }
            ],
            "source": [
                "plt.hist(normal_vec)"
            ]
        },
        {
            "cell_type": "code",
            "execution_count": 4,
            "id": "f21e8d20",
            "metadata": {},
            "outputs": [
                {
                    "name": "stdout",
                    "output_type": "stream",
                    "text": [
                        "The mean is: 3.2650496331355265\n",
                        "The standard deviation is: 2.49935638011697\n",
                        "The median is: 2.4919219842197284\n",
                        "The mode is: ModeResult(mode=np.float64(0.27813009876637557), count=np.int64(1))\n",
                        "The percentile is: 1.5536731821912546\n",
                        "The Interquartile range is: 2.9110309046287295\n"
                    ]
                },
                {
                    "data": {
                        "image/png": "[encoded data removed]",
                        "text/plain": [
                            "<Figure size 640x480 with 1 Axes>"
                        ]
                    },
                    "metadata": {},
                    "output_type": "display_data"
                }
            ],
            "source": [
                "Chi = np.random.chisquare(3, 100,)\n",
                "plt.hist(np.random.chisquare(3, 100,), bins=50)\n",
                "print(f\"The mean is: {Chi.mean()}\")\n",
                "print(f\"The standard deviation is: {Chi.std()}\")\n",
                "print(f\"The median is: {np.median(Chi)}\")\n",
                "print(f\"The mode is: {st.mode(Chi)}\")\n",
                "print(f\"The percentile is: {np.percentile(Chi, 25)}\")\n",
                "print(f\"The Interquartile range is: {np.percentile(Chi, 75) - np.percentile(Chi, 25)}\")"
            ]
        },
        {
            "cell_type": "markdown",
            "id": "46c70c3d",
            "metadata": {},
            "source": [
                "### Exercise 2\n",
                "\n",
                "Write a Python program to calculate the standard deviation of the following data:\n",
                "\n",
                "```py\n",
                "data = [4, 2, 5, 8, 6]\n",
                "```"
            ]
        },
        {
            "cell_type": "code",
            "execution_count": 6,
            "id": "d590308e",
            "metadata": {},
            "outputs": [
                {
                    "name": "stdout",
                    "output_type": "stream",
                    "text": [
                        "Sample Data: [4, 2, 5, 8, 6]\n",
                        "Standard Deviation: 2.23606797749979\n"
                    ]
                }
            ],
            "source": [
                "# Define the standard deviation function\n",
                "\n",
                "def sd(data):\n",
                "    n = len(data)\n",
                "\n",
                "    if (n <= 1):\n",
                "        return 0.0\n",
                "\n",
                "    mean, sd = avg_calc(data), 0.0\n",
                "\n",
                "    for d in data:\n",
                "        sd += (float(d) - mean) ** 2\n",
                "    sd = math.sqrt(sd / float(n - 1))\n",
                "\n",
                "    return sd\n",
                "\n",
                "def avg_calc(data):\n",
                "    n, mean = len(data), 0.0\n",
                "\n",
                "    if (n <= 1):\n",
                "        return data[0]\n",
                "\n",
                "    for d in data:\n",
                "        mean = mean + float(d)\n",
                "\n",
                "    mean = mean / float(n)\n",
                "    return mean\n",
                "\n",
                "\n",
                "data = [4, 2, 5, 8, 6]\n",
                "print(f\"Sample Data: {data}\")\n",
                "print(f\"Standard Deviation: {sd(data)}\")\n"
            ]
        }
    ],
    "metadata": {
        "interpreter": {
            "hash": "9248718ffe6ce6938b217e69dbcc175ea21f4c6b28a317e96c05334edae734bb"
        },
        "kernelspec": {
            "display_name": "Python 3.9.12 ('ML-BOOTCAMP')",
            "language": "python",
            "name": "python3"
        },
        "language_info": {
            "codemirror_mode": {
                "name": "ipython",
                "version": 3
            },
            "file_extension": ".py",
            "mimetype": "text/x-python",
            "name": "python",
            "nbconvert_exporter": "python",
            "pygments_lexer": "ipython3",
            "version": "3.11.4"
        }
    },
    "nbformat": 4,
    "nbformat_minor": 5
}
